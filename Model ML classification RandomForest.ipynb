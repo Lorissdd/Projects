{
 "cells": [
  {
   "cell_type": "code",
   "execution_count": 1,
   "id": "59d4e648",
   "metadata": {},
   "outputs": [],
   "source": [
    "import pandas as pd\n",
    "import numpy as np\n",
    "import seaborn as sns\n",
    "import matplotlib.pyplot as plt\n",
    "from sklearn.ensemble import RandomForestClassifier\n",
    "from sklearn.preprocessing import StandardScaler\n",
    "from sklearn.model_selection import train_test_split,GridSearchCV\n",
    "from sklearn.linear_model import LassoCV,Lasso\n",
    "from sklearn.metrics import mean_squared_error"
   ]
  },
  {
   "cell_type": "code",
   "execution_count": 2,
   "id": "2a880565",
   "metadata": {},
   "outputs": [
    {
     "name": "stdout",
     "output_type": "stream",
     "text": [
      "<class 'pandas.core.frame.DataFrame'>\n",
      "Int64Index: 2035 entries, 0 to 2034\n",
      "Data columns (total 11 columns):\n",
      " #   Column                        Non-Null Count  Dtype  \n",
      "---  ------                        --------------  -----  \n",
      " 0   Country name                  2035 non-null   object \n",
      " 1   Ladder score                  2035 non-null   float64\n",
      " 2   Logged GDP per capita         2011 non-null   float64\n",
      " 3   Social support                2026 non-null   float64\n",
      " 4   Healthy life expectancy       1984 non-null   float64\n",
      " 5   Freedom to make life choices  2005 non-null   float64\n",
      " 6   Generosity                    1959 non-null   float64\n",
      " 7   Perceptions of corruption     1931 non-null   float64\n",
      " 8   year                          2035 non-null   int32  \n",
      " 9   Regional indicator            2035 non-null   object \n",
      " 10  rank                          2035 non-null   int32  \n",
      "dtypes: float64(7), int32(2), object(2)\n",
      "memory usage: 174.9+ KB\n"
     ]
    }
   ],
   "source": [
    "\n",
    "df = pd.read_csv('world-happiness-report-2021.csv')\n",
    "#df.head()\n",
    "#df.info()\n",
    "#df.describe()\n",
    "\n",
    "df2 = pd.read_csv('world-happiness-report.csv')\n",
    "df2.head()\n",
    "\n",
    "#Création liste des régions du monde par pays\n",
    "country_region = df.iloc[:,0:2]\n",
    "\n",
    "#Mise en forme des 2 datasets en prévision du concat\n",
    "#dataset de 2021 :\n",
    "df_1 = df.iloc[:,:12]\n",
    "df_1 = df_1.drop(df.iloc[:,3:6], axis=1)\n",
    "df_1 = df_1.drop('Regional indicator', axis=1)\n",
    "df_1['year']='2021'\n",
    "\n",
    "#dataset historique depuis 2005 :\n",
    "df_2 = df2.iloc[:, :-2]\n",
    "dico = {'Life Ladder' : 'Ladder score', 'Log GDP per capita' : 'Logged GDP per capita', 'Healthy life expectancy at birth' : 'Healthy life expectancy'}\n",
    "df_2.rename(dico, axis=1, inplace=True)\n",
    "\n",
    "#création du fichier contenants les données depuis 2005 :\n",
    "df_full = pd.concat([df_1, df_2], axis=0)\n",
    "df_full['year'] = df_full['year'].astype('int')\n",
    "df_full = df_full.sort_values(by='Country name', ascending=True)\n",
    "\n",
    "#ajout colonne Region d'après le df country_region créé précédemment :\n",
    "df_full = df_full.merge(country_region, on = 'Country name', how ='inner')\n",
    "\n",
    "#ajout du rank par année de chaque pays\n",
    "df_full[\"rank\"] = df_full.groupby(\"year\")[\"Ladder score\"].rank(\"dense\", ascending=False).astype('int')\n",
    "\n",
    "df_full.head()\n",
    "df_full.info()"
   ]
  },
  {
   "cell_type": "code",
   "execution_count": 3,
   "id": "e0d02782",
   "metadata": {},
   "outputs": [],
   "source": [
    "\n",
    "#Remplacement des NaN par les moyennes des variables en fonction de chaque pays\n",
    "for i in df_full.iloc[:,2:8].columns : \n",
    "    df_full[i] = df_full[i].fillna(df_full.groupby('Country name')[i].transform(\"mean\"))"
   ]
  },
  {
   "cell_type": "code",
   "execution_count": 4,
   "id": "484fb060",
   "metadata": {},
   "outputs": [],
   "source": [
    "def filtre(x):\n",
    "  if x >= 0 and x < 5 :\n",
    "    return '3'\n",
    "  if x >= 5 and x <= 6 :\n",
    "    return '2'\n",
    "  if x > 6 and x <= 10 :\n",
    "    return '1'\n",
    "\n",
    "df_full['Ladder score_categ'] = df_full['Ladder score'].apply(filtre)"
   ]
  },
  {
   "cell_type": "code",
   "execution_count": null,
   "id": "5a40a5e4",
   "metadata": {},
   "outputs": [],
   "source": [
    "df_full.shape"
   ]
  },
  {
   "cell_type": "code",
   "execution_count": 5,
   "id": "7a5d143d",
   "metadata": {},
   "outputs": [],
   "source": [
    "## variable cile\n",
    "\n",
    "target = df_full['Ladder score_categ']\n",
    "\n",
    "#df pour la rl\n",
    "\n",
    "col_feat = ['Logged GDP per capita', 'Social support', 'Healthy life expectancy',\n",
    "       'Freedom to make life choices', 'Generosity',\n",
    "       'Perceptions of corruption']\n",
    "\n",
    "\n",
    "\n",
    "rlm_df_full = df_full[col_feat]"
   ]
  },
  {
   "cell_type": "code",
   "execution_count": 6,
   "id": "6f8107fc",
   "metadata": {},
   "outputs": [],
   "source": [
    "#Standardisation des données\n",
    "\n",
    "\n",
    "scaler = StandardScaler()\n",
    "data = scaler.fit_transform(rlm_df_full)\n",
    "\n"
   ]
  },
  {
   "cell_type": "code",
   "execution_count": 7,
   "id": "40d3db3c",
   "metadata": {},
   "outputs": [],
   "source": [
    "# Séparation des données en deux jeux train et test:\n",
    "\n",
    "X_train, X_test, y_train, y_test = train_test_split(data, target, test_size=0.2, random_state=10)\n"
   ]
  },
  {
   "cell_type": "code",
   "execution_count": 16,
   "id": "d656bc27",
   "metadata": {},
   "outputs": [
    {
     "name": "stdout",
     "output_type": "stream",
     "text": [
      "[100 110 120 130 140 150 160 170 180 190 200 210 220 230 240 250 260 270\n",
      " 280 290 300 310 320 330 340 350 360 370 380 390 400 410 420 430 440 450\n",
      " 460 470 480 490 500 510 520 530 540 550 560 570 580 590 600 610 620 630\n",
      " 640 650 660 670 680 690 700 710 720 730 740 750 760 770 780 790 800 810\n",
      " 820 830 840 850 860 870 880 890 900 910 920 930 940 950 960 970 980 990]\n"
     ]
    }
   ],
   "source": [
    "l = np.arange(100,1000,10)\n",
    "print(l)\n"
   ]
  },
  {
   "cell_type": "code",
   "execution_count": 17,
   "id": "3898da53",
   "metadata": {},
   "outputs": [
    {
     "name": "stdout",
     "output_type": "stream",
     "text": [
      "{'criterion': 'entropy', 'max_features': 'sqrt', 'n_estimators': 220}\n"
     ]
    }
   ],
   "source": [
    "clf = RandomForestClassifier()\n",
    "\n",
    "param = {\"max_features\" : [\"sqrt\", \"log2\"], \"n_estimators\": l, \"criterion\" :[\"gini\", \"entropy\"]}\n",
    "\n",
    "grid = GridSearchCV(estimator=clf,param_grid=param)\n",
    "grid.fit(X_train,y_train)\n",
    "print(grid.best_params_)\n"
   ]
  },
  {
   "cell_type": "code",
   "execution_count": 20,
   "id": "28712257",
   "metadata": {},
   "outputs": [
    {
     "name": "stdout",
     "output_type": "stream",
     "text": [
      "score test : 0.8329238329238329\n",
      "mse test : 0.17444717444717445\n"
     ]
    }
   ],
   "source": [
    "clf_best = RandomForestClassifier(criterion=\"entropy\", max_features=\"sqrt\", n_estimators = 220)\n",
    "\n",
    "clf_best.fit(X_train,y_train)\n",
    "y_pred = clf_best.predict(X_test)\n",
    "\n",
    "print('score test :', clf_best.score(X_test, y_test))\n",
    "print('mse test :', mean_squared_error(y_pred, y_test))"
   ]
  },
  {
   "cell_type": "code",
   "execution_count": 21,
   "id": "b2edf576",
   "metadata": {},
   "outputs": [
    {
     "data": {
      "text/html": [
       "<div>\n",
       "<style scoped>\n",
       "    .dataframe tbody tr th:only-of-type {\n",
       "        vertical-align: middle;\n",
       "    }\n",
       "\n",
       "    .dataframe tbody tr th {\n",
       "        vertical-align: top;\n",
       "    }\n",
       "\n",
       "    .dataframe thead th {\n",
       "        text-align: right;\n",
       "    }\n",
       "</style>\n",
       "<table border=\"1\" class=\"dataframe\">\n",
       "  <thead>\n",
       "    <tr style=\"text-align: right;\">\n",
       "      <th>Classe prédite</th>\n",
       "      <th>1</th>\n",
       "      <th>2</th>\n",
       "      <th>3</th>\n",
       "    </tr>\n",
       "    <tr>\n",
       "      <th>Classe réelle</th>\n",
       "      <th></th>\n",
       "      <th></th>\n",
       "      <th></th>\n",
       "    </tr>\n",
       "  </thead>\n",
       "  <tbody>\n",
       "    <tr>\n",
       "      <th>1</th>\n",
       "      <td>115</td>\n",
       "      <td>19</td>\n",
       "      <td>0</td>\n",
       "    </tr>\n",
       "    <tr>\n",
       "      <th>2</th>\n",
       "      <td>13</td>\n",
       "      <td>103</td>\n",
       "      <td>19</td>\n",
       "    </tr>\n",
       "    <tr>\n",
       "      <th>3</th>\n",
       "      <td>1</td>\n",
       "      <td>16</td>\n",
       "      <td>121</td>\n",
       "    </tr>\n",
       "  </tbody>\n",
       "</table>\n",
       "</div>"
      ],
      "text/plain": [
       "Classe prédite    1    2    3\n",
       "Classe réelle                \n",
       "1               115   19    0\n",
       "2                13  103   19\n",
       "3                 1   16  121"
      ]
     },
     "execution_count": 21,
     "metadata": {},
     "output_type": "execute_result"
    }
   ],
   "source": [
    "pd.crosstab(y_test, y_pred, rownames = ['Classe réelle'], colnames = ['Classe prédite'])"
   ]
  },
  {
   "cell_type": "code",
   "execution_count": 22,
   "id": "02002874",
   "metadata": {},
   "outputs": [
    {
     "name": "stdout",
     "output_type": "stream",
     "text": [
      "              precision    recall  f1-score   support\n",
      "\n",
      "           1       0.89      0.86      0.87       134\n",
      "           2       0.75      0.76      0.75       135\n",
      "           3       0.86      0.88      0.87       138\n",
      "\n",
      "    accuracy                           0.83       407\n",
      "   macro avg       0.83      0.83      0.83       407\n",
      "weighted avg       0.83      0.83      0.83       407\n",
      "\n"
     ]
    }
   ],
   "source": [
    "from sklearn.metrics import classification_report\n",
    "\n",
    "print(classification_report(y_test,y_pred))"
   ]
  }
 ],
 "metadata": {
  "kernelspec": {
   "display_name": "Python 3",
   "language": "python",
   "name": "python3"
  },
  "language_info": {
   "codemirror_mode": {
    "name": "ipython",
    "version": 3
   },
   "file_extension": ".py",
   "mimetype": "text/x-python",
   "name": "python",
   "nbconvert_exporter": "python",
   "pygments_lexer": "ipython3",
   "version": "3.8.8"
  }
 },
 "nbformat": 4,
 "nbformat_minor": 5
}
